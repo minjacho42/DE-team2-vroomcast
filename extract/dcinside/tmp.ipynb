{
 "cells": [
  {
   "cell_type": "code",
   "execution_count": 3,
   "metadata": {},
   "outputs": [],
   "source": [
    "from datetime import datetime, timedelta\n",
    "\n",
    "def calculate_dates(a):\n",
    "    \"\"\"\n",
    "    주어진 날짜 a를 기준으로 월을 변경하고, 45일 전후 날짜를 계산합니다.\n",
    "\n",
    "    Args:\n",
    "        a: \"YYYY-MM-DD\" 형식의 날짜 문자열\n",
    "\n",
    "    Returns:\n",
    "        딕셔너리: \n",
    "            - month_minus_3: 월 -3인 날짜\n",
    "            - month_minus_3_minus_45: 월 -3인 날짜로부터 45일 전\n",
    "            - month_plus_3: 월 +3인 날짜\n",
    "            - month_plus_3_minus_45: 월 +3인 날짜로부터 45일 전\n",
    "            - minus_45: a로부터 45일 전\n",
    "    \"\"\"\n",
    "    year, month, day = map(int, a.split('-'))\n",
    "\n",
    "    # 월 변경 및 날짜 계산 함수\n",
    "    def change_month(y, m, d, delta):\n",
    "        new_month = (m + delta - 1) % 12 + 1  # 월 변경\n",
    "        new_year = y + (m + delta - 1) // 12  # 년도 변경\n",
    "        try:\n",
    "            return datetime(new_year, new_month, d).strftime(\"%Y-%m-%d\")\n",
    "        except ValueError:  # 월의 마지막 날짜 처리\n",
    "            import calendar\n",
    "            last_day = calendar.monthrange(new_year, new_month)[1]\n",
    "            return datetime(new_year, new_month, last_day).strftime(\"%Y-%m-%d\")\n",
    "\n",
    "    # 결과 계산\n",
    "    month_minus_3 = change_month(year, month, day, -3)\n",
    "    month_minus_3_minus_45 = (datetime.strptime(month_minus_3, \"%Y-%m-%d\") - timedelta(days=45)).strftime(\"%Y-%m-%d\")\n",
    "    month_plus_3 = change_month(year, month, day, 3)\n",
    "    # month_plus_3_minus_45 = (datetime.strptime(month_plus_3, \"%Y-%m-%d\") - timedelta(days=45)).strftime(\"%Y-%m-%d\")\n",
    "    minus_45 = (datetime.strptime(a, \"%Y-%m-%d\") - timedelta(days=45)).strftime(\"%Y-%m-%d\")\n",
    "\n",
    "    return {\n",
    "        \"month_minus_3\": month_minus_3,\n",
    "        \"month_minus_3_minus_45\": month_minus_3_minus_45,\n",
    "        \"month_plus_3\": month_plus_3,\n",
    "        # \"month_plus_3_minus_45\": month_plus_3_minus_45,\n",
    "        \"minus_45\": minus_45\n",
    "    }"
   ]
  },
  {
   "cell_type": "code",
   "execution_count": 5,
   "metadata": {},
   "outputs": [
    {
     "name": "stdout",
     "output_type": "stream",
     "text": [
      "{'month_minus_3': '2024-11-10', 'month_minus_3_minus_45': '2024-09-26', 'month_plus_3': '2025-05-10', 'minus_45': '2024-12-27'}\n"
     ]
    }
   ],
   "source": [
    "# 예시\n",
    "a = \"2025-02-10\"\n",
    "result = calculate_dates(a)\n",
    "print(result)"
   ]
  },
  {
   "cell_type": "code",
   "execution_count": 47,
   "metadata": {},
   "outputs": [],
   "source": [
    "from datetime import datetime\n",
    "def md_to_ymd(date_str:str):\n",
    "    try:\n",
    "        date = datetime.strptime(date_str, '%y.%m.%d')\n",
    "        return date\n",
    "    except :\n",
    "        try:\n",
    "            date_str = datetime.strptime(date_str, \"%m.%d\")\n",
    "            current_year = datetime.now().year\n",
    "            date = date_str.replace(year=current_year)\n",
    "            # date = datetime.strptime(date_str, '%y.%m.%d')\n",
    "            return date\n",
    "        except ValueError:\n",
    "            print(\"Invalid date format\")\n",
    "            return False\n",
    "        \n",
    "def convert_date_format(date_str):\n",
    "    date_str = str(md_to_ymd(date_str))\n",
    "    return date_str.split(' ')[0][2:]"
   ]
  },
  {
   "cell_type": "code",
   "execution_count": 52,
   "metadata": {},
   "outputs": [
    {
     "data": {
      "text/plain": [
       "datetime.datetime(2025, 2, 15, 0, 0)"
      ]
     },
     "execution_count": 52,
     "metadata": {},
     "output_type": "execute_result"
    }
   ],
   "source": [
    "md_to_ymd('02.15')"
   ]
  },
  {
   "cell_type": "code",
   "execution_count": 51,
   "metadata": {},
   "outputs": [
    {
     "data": {
      "text/plain": [
       "'25-02-15'"
      ]
     },
     "execution_count": 51,
     "metadata": {},
     "output_type": "execute_result"
    }
   ],
   "source": [
    "str(md_to_ymd('02.15'))\n",
    "convert_date_format('02.15')"
   ]
  },
  {
   "cell_type": "code",
   "execution_count": 49,
   "metadata": {},
   "outputs": [
    {
     "name": "stdout",
     "output_type": "stream",
     "text": [
      "1900-02-15 00:00:00\n"
     ]
    },
    {
     "data": {
      "text/plain": [
       "'25-1900-02-15 00:00:00'"
      ]
     },
     "execution_count": 49,
     "metadata": {},
     "output_type": "execute_result"
    }
   ],
   "source": [
    "a = datetime.strptime('02.15', \"%m.%d\")\n",
    "print(a)\n",
    "current_year = datetime.now().year % 100\n",
    "date_str = f\"{current_year:02d}-{a}\"\n",
    "date_str"
   ]
  },
  {
   "cell_type": "code",
   "execution_count": 50,
   "metadata": {},
   "outputs": [
    {
     "data": {
      "text/plain": [
       "datetime.datetime(2003, 1, 22, 0, 0)"
      ]
     },
     "execution_count": 50,
     "metadata": {},
     "output_type": "execute_result"
    }
   ],
   "source": [
    "from dateutil import parser\n",
    "\n",
    "datetime.strptime('22.01.01', '%y.%m.%d')\n",
    "parser.parse('22.01.03')"
   ]
  },
  {
   "cell_type": "code",
   "execution_count": 53,
   "metadata": {},
   "outputs": [],
   "source": [
    "def convert_date_format(date_str):\n",
    "    # date_str = str(md_to_ymd(date_str))\n",
    "    return str(date_str).split(' ')[0][2:]"
   ]
  },
  {
   "cell_type": "code",
   "execution_count": 54,
   "metadata": {},
   "outputs": [
    {
     "data": {
      "text/plain": [
       "'25-02-15'"
      ]
     },
     "execution_count": 54,
     "metadata": {},
     "output_type": "execute_result"
    }
   ],
   "source": [
    "convert_date_format(md_to_ymd('02.15'))"
   ]
  },
  {
   "cell_type": "code",
   "execution_count": null,
   "metadata": {},
   "outputs": [],
   "source": []
  }
 ],
 "metadata": {
  "kernelspec": {
   "display_name": "venv_ssd",
   "language": "python",
   "name": "python3"
  },
  "language_info": {
   "codemirror_mode": {
    "name": "ipython",
    "version": 3
   },
   "file_extension": ".py",
   "mimetype": "text/x-python",
   "name": "python",
   "nbconvert_exporter": "python",
   "pygments_lexer": "ipython3",
   "version": "3.10.11"
  }
 },
 "nbformat": 4,
 "nbformat_minor": 2
}
