{
 "cells": [
  {
   "cell_type": "code",
   "execution_count": 65,
   "metadata": {},
   "outputs": [],
   "source": [
    "from datetime import datetime, timedelta\n",
    "from dateutil import parser\n",
    "def calculate_dates(a):\n",
    "    \"\"\"\n",
    "    주어진 날짜 a를 기준으로 월을 변경하고, 45일 전후 날짜를 계산합니다.\n",
    "\n",
    "    Args:\n",
    "        a: \"YYYY-MM-DD\" 형식의 날짜 문자열\n",
    "\n",
    "    Returns:\n",
    "        딕셔너리: \n",
    "            - month_minus_3: 월 -3인 날짜\n",
    "            - month_minus_3_minus_45: 월 -3인 날짜로부터 45일 전\n",
    "            - month_plus_3: 월 +3인 날짜\n",
    "            - month_plus_3_minus_45: 월 +3인 날짜로부터 45일 전\n",
    "            - minus_45: a로부터 45일 전\n",
    "    \"\"\"\n",
    "    year, month, day = map(int, a.split('-'))\n",
    "\n",
    "    # 월 변경 및 날짜 계산 함수\n",
    "    def change_month(y, m, d, delta):\n",
    "        new_month = (m + delta - 1) % 12 + 1  # 월 변경\n",
    "        new_year = y + (m + delta - 1) // 12  # 년도 변경\n",
    "        try:\n",
    "            return datetime(new_year, new_month, d).strftime(\"%Y-%m-%d\")\n",
    "        except ValueError:  # 월의 마지막 날짜 처리\n",
    "            import calendar\n",
    "            last_day = calendar.monthrange(new_year, new_month)[1]\n",
    "            return datetime(new_year, new_month, last_day).strftime(\"%Y-%m-%d\")\n",
    "\n",
    "    # 결과 계산\n",
    "    month_minus_3 = change_month(year, month, day, -3)\n",
    "    month_minus_3_minus_45 = (datetime.strptime(month_minus_3, \"%Y-%m-%d\") - timedelta(days=45)).strftime(\"%Y-%m-%d\")\n",
    "    month_plus_3 = change_month(year, month, day, 3)\n",
    "    # month_plus_3_minus_45 = (datetime.strptime(month_plus_3, \"%Y-%m-%d\") - timedelta(days=45)).strftime(\"%Y-%m-%d\")\n",
    "    minus_45 = (datetime.strptime(a, \"%Y-%m-%d\") - timedelta(days=45)).strftime(\"%Y-%m-%d\")\n",
    "\n",
    "    return {\n",
    "        \"month_minus_3\": month_minus_3,\n",
    "        \"month_minus_3_minus_45\": month_minus_3_minus_45,\n",
    "        \"month_plus_3\": month_plus_3,\n",
    "        # \"month_plus_3_minus_45\": month_plus_3_minus_45,\n",
    "        \"minus_45\": minus_45\n",
    "    }"
   ]
  },
  {
   "cell_type": "code",
   "execution_count": 8,
   "metadata": {},
   "outputs": [
    {
     "name": "stdout",
     "output_type": "stream",
     "text": [
      "{'month_minus_3': '2024-11-10', 'month_minus_3_minus_45': '2024-09-26', 'month_plus_3': '2025-05-10', 'minus_45': '2024-12-27'}\n"
     ]
    }
   ],
   "source": [
    "# 예시\n",
    "a = \"2025-02-10\"\n",
    "result = calculate_dates(a)\n",
    "print(result)"
   ]
  },
  {
   "cell_type": "code",
   "execution_count": null,
   "metadata": {},
   "outputs": [],
   "source": [
    "from datetime import datetime\n",
    "def md_to_ymd(date_str:str):\n",
    "    try:\n",
    "        date_str = datetime.strptime(date_str, '%y.%m.%d')\n",
    "        return date\n",
    "    except :\n",
    "        try:\n",
    "            date_str = datetime.strptime(date_str, \"%m.%d\")\n",
    "            current_year = datetime.now().year\n",
    "            date = date_str.replace(year=current_year)\n",
    "            return date\n",
    "        except ValueError:\n",
    "            print(\"Invalid date format\")\n",
    "            return False\n",
    "        "
   ]
  },
  {
   "cell_type": "code",
   "execution_count": null,
   "metadata": {},
   "outputs": [],
   "source": [
    "def new_convert_date_format(date_str):\n",
    "  \"\"\"\n",
    "  두 가지 날짜 형식을 입력받아 \"yyyy.mm.dd HH:MM:SS\" 형식으로 변환합니다.\n",
    "\n",
    "  Args:\n",
    "    date_str: 변환할 날짜 문자열 (\"yyyy.mm.dd HH:MM:SS\" 또는 \"mm.dd HH:MM:SS\" 형식)\n",
    "\n",
    "  Returns:\n",
    "    \"yyyy.mm.dd HH:MM:SS\" 형식으로 변환된 날짜 문자열\n",
    "  \"\"\"\n",
    "  try:\n",
    "    # \"yyyy.mm.dd HH:MM:SS\" 형식인 경우 그대로 반환\n",
    "    datetime.strptime(date_str, \"%Y.%m.%d %H:%M:%S\")\n",
    "    return date_str\n",
    "  except ValueError:\n",
    "    try:\n",
    "      # \"mm.dd HH:MM:SS\" 형식인 경우 연도를 2025로 가정하여 변환\n",
    "      date_obj = datetime.strptime(date_str, \"%m.%d %H:%M:%S\")\n",
    "      return date_obj.replace(year=datetime.now().year).strftime(\"%Y.%m.%d %H:%M:%S\")\n",
    "    except ValueError:\n",
    "      return \"Invalid date format\""
   ]
  },
  {
   "cell_type": "code",
   "execution_count": 62,
   "metadata": {},
   "outputs": [],
   "source": [
    "def convert_date_format(date_str):\n",
    "    # date_str = str(md_to_ymd(date_str))\n",
    "    return str(date_str).split(' ')[0].replace('.', '-')"
   ]
  },
  {
   "cell_type": "code",
   "execution_count": 81,
   "metadata": {},
   "outputs": [
    {
     "data": {
      "text/plain": [
       "'Invalid date format'"
      ]
     },
     "execution_count": 81,
     "metadata": {},
     "output_type": "execute_result"
    }
   ],
   "source": [
    "new_convert_date_format('01.01')"
   ]
  },
  {
   "cell_type": "code",
   "execution_count": 83,
   "metadata": {},
   "outputs": [
    {
     "data": {
      "text/plain": [
       "'2025.02.15 01:23:45'"
      ]
     },
     "execution_count": 83,
     "metadata": {},
     "output_type": "execute_result"
    }
   ],
   "source": [
    "new_convert_date_format('2025.02.15 01:23:45')"
   ]
  },
  {
   "cell_type": "code",
   "execution_count": 82,
   "metadata": {},
   "outputs": [
    {
     "data": {
      "text/plain": [
       "'24-12-31'"
      ]
     },
     "execution_count": 82,
     "metadata": {},
     "output_type": "execute_result"
    }
   ],
   "source": [
    "convert_date_format('24.12.31')"
   ]
  },
  {
   "cell_type": "code",
   "execution_count": 64,
   "metadata": {},
   "outputs": [
    {
     "data": {
      "text/plain": [
       "'2025-02-15'"
      ]
     },
     "execution_count": 64,
     "metadata": {},
     "output_type": "execute_result"
    }
   ],
   "source": [
    "convert_date_format(new_convert_date_format('02.15 01:23:45'))"
   ]
  },
  {
   "cell_type": "code",
   "execution_count": 55,
   "metadata": {},
   "outputs": [
    {
     "name": "stdout",
     "output_type": "stream",
     "text": [
      "Invalid date format\n"
     ]
    },
    {
     "data": {
      "text/plain": [
       "False"
      ]
     },
     "execution_count": 55,
     "metadata": {},
     "output_type": "execute_result"
    }
   ],
   "source": [
    "md_to_ymd('2025.02.15')"
   ]
  },
  {
   "cell_type": "code",
   "execution_count": 41,
   "metadata": {},
   "outputs": [
    {
     "data": {
      "text/plain": [
       "'2023.02.15'"
      ]
     },
     "execution_count": 41,
     "metadata": {},
     "output_type": "execute_result"
    }
   ],
   "source": [
    "str(md_to_ymd('02.15'))\n",
    "convert_date_format('2023.02.15')"
   ]
  },
  {
   "cell_type": "code",
   "execution_count": 21,
   "metadata": {},
   "outputs": [
    {
     "name": "stdout",
     "output_type": "stream",
     "text": [
      "1900-02-15 00:00:00\n"
     ]
    },
    {
     "data": {
      "text/plain": [
       "'25-1900-02-15 00:00:00'"
      ]
     },
     "execution_count": 21,
     "metadata": {},
     "output_type": "execute_result"
    }
   ],
   "source": [
    "a = datetime.strptime('02.15', \"%m.%d\")\n",
    "print(a)\n",
    "current_year = datetime.now().year % 100\n",
    "date_str = f\"{current_year:02d}-{a}\"\n",
    "date_str"
   ]
  },
  {
   "cell_type": "code",
   "execution_count": 22,
   "metadata": {},
   "outputs": [
    {
     "data": {
      "text/plain": [
       "datetime.datetime(2003, 1, 22, 0, 0)"
      ]
     },
     "execution_count": 22,
     "metadata": {},
     "output_type": "execute_result"
    }
   ],
   "source": [
    "from dateutil import parser\n",
    "\n",
    "datetime.strptime('22.01.01', '%y.%m.%d')\n",
    "parser.parse('22.01.03')"
   ]
  },
  {
   "cell_type": "code",
   "execution_count": 40,
   "metadata": {},
   "outputs": [
    {
     "data": {
      "text/plain": [
       "datetime.datetime(2023, 2, 15, 0, 0)"
      ]
     },
     "execution_count": 40,
     "metadata": {},
     "output_type": "execute_result"
    }
   ],
   "source": [
    "md_to_ymd('23.02.15')"
   ]
  },
  {
   "cell_type": "code",
   "execution_count": 39,
   "metadata": {},
   "outputs": [
    {
     "name": "stdout",
     "output_type": "stream",
     "text": [
      "Invalid date format\n"
     ]
    },
    {
     "data": {
      "text/plain": [
       "'False'"
      ]
     },
     "execution_count": 39,
     "metadata": {},
     "output_type": "execute_result"
    }
   ],
   "source": [
    "convert_date_format(md_to_ymd('2023.02.15'))"
   ]
  },
  {
   "cell_type": "code",
   "execution_count": 27,
   "metadata": {},
   "outputs": [
    {
     "data": {
      "text/plain": [
       "'23-02-16T14:23:20'"
      ]
     },
     "execution_count": 27,
     "metadata": {},
     "output_type": "execute_result"
    }
   ],
   "source": [
    "t = \"23.02.16 14:23:20\"\n",
    "ymd, hms = t.split()\n",
    "'T'.join([convert_date_format(md_to_ymd(ymd)), hms])\n",
    "# t.replace(\" \", \"T\")"
   ]
  },
  {
   "cell_type": "code",
   "execution_count": 116,
   "metadata": {},
   "outputs": [],
   "source": [
    "def date_type_for_search_result(date_str):\n",
    "    try:\n",
    "        # 'mm.dd' 형식 처리\n",
    "        date_obj = datetime.strptime(date_str, \"%m.%d\")\n",
    "        date_obj = date_obj.replace(year=datetime.now().year)\n",
    "        # print(date_obj)\n",
    "        return date_obj\n",
    "    except ValueError:\n",
    "        try:\n",
    "            # 'yy.mm.dd' 형식 처리\n",
    "            date_obj = datetime.strptime(date_str, \"%y.%m.%d\")\n",
    "            # print(date_obj)\n",
    "            return(date_obj)\n",
    "        except ValueError:\n",
    "            return \"Invalid Date Format\"\n",
    "        \n",
    "def is_date_in_range(date_obj, start_date_str, end_date_str):\n",
    "    \"\"\"\n",
    "    주어진 날짜 문자열이 특정 날짜 범위 안에 있는지 확인합니다.\n",
    "    검색 결과 목록의 날짜 형식에 대응합니다.\n",
    "\n",
    "    Args:\n",
    "        date_str: 검사할 날짜 문자열 (예: '23.08.17' | '02.15')\n",
    "        start_date_str: 시작 날짜 문자열 (예: '2023-08-16')\n",
    "        end_date_str: 종료 날짜 문자열 (예: '2023-11-16')\n",
    "\n",
    "    Returns:\n",
    "        bool: 날짜가 범위 안에 있으면 True, 아니면 False\n",
    "        str: 날짜 형식이 올바르지 않으면 \"Invalid Date Format\" 반환\n",
    "    \"\"\"\n",
    "\n",
    "\n",
    "    try:\n",
    "        start_date = datetime.strptime(start_date_str, \"%Y-%m-%d\")\n",
    "        end_date = datetime.strptime(end_date_str, \"%Y-%m-%d\")\n",
    "\n",
    "        return start_date <= date_obj <= end_date\n",
    "\n",
    "    except ValueError:\n",
    "        return \"Invalid Date Format\""
   ]
  },
  {
   "cell_type": "code",
   "execution_count": 119,
   "metadata": {},
   "outputs": [
    {
     "data": {
      "text/plain": [
       "datetime.datetime(2025, 12, 31, 0, 0)"
      ]
     },
     "execution_count": 119,
     "metadata": {},
     "output_type": "execute_result"
    }
   ],
   "source": [
    "date_type_for_search_result('12.31')"
   ]
  },
  {
   "cell_type": "code",
   "execution_count": 117,
   "metadata": {},
   "outputs": [
    {
     "data": {
      "text/plain": [
       "True"
      ]
     },
     "execution_count": 117,
     "metadata": {},
     "output_type": "execute_result"
    }
   ],
   "source": [
    "is_date_in_range(date_type_for_search_result('24.12.31'), '2024-12-30', '2025-01-02')"
   ]
  },
  {
   "cell_type": "code",
   "execution_count": 101,
   "metadata": {},
   "outputs": [],
   "source": [
    "def md_to_ymd(date_str:str):\n",
    "    \"\"\"\n",
    "    두 가지 날짜 형식을 입력받아 \"yyyy.mm.dd HH:MM:SS\" 형식으로 변환합니다.\n",
    "    본문 및 댓글의 날짜 형식에 대응합니다.\n",
    "    \n",
    "    Args:\n",
    "        date_str: 변환할 날짜 문자열 (\"yyyy.mm.dd HH:MM:SS\" 또는 \"mm.dd HH:MM:SS\" 형식)\n",
    "\n",
    "    Returns:\n",
    "        \"yyyy.mm.dd HH:MM:SS\" 형식으로 변환된 날짜 문자열\n",
    "    \"\"\"\n",
    "    try:\n",
    "        # \"yyyy.mm.dd HH:MM:SS\" 형식인 경우 그대로 반환\n",
    "        datetime.strptime(date_str, \"%Y.%m.%d %H:%M:%S\")\n",
    "        return date_str\n",
    "    except ValueError:\n",
    "        try:\n",
    "            # \"mm.dd HH:MM:SS\" 형식인 경우 연도를 2025로 가정하여 변환\n",
    "            date_obj = datetime.strptime(date_str, \"%m.%d %H:%M:%S\")\n",
    "            return date_obj.replace(year=datetime.now().year).strftime(\"%Y.%m.%d %H:%M:%S\")\n",
    "        except ValueError:\n",
    "            return \"Invalid date format\""
   ]
  },
  {
   "cell_type": "code",
   "execution_count": 105,
   "metadata": {},
   "outputs": [
    {
     "data": {
      "text/plain": [
       "'2025.02.16 08:33:33'"
      ]
     },
     "execution_count": 105,
     "metadata": {},
     "output_type": "execute_result"
    }
   ],
   "source": [
    "md_to_ymd('02.16 08:33:33')"
   ]
  },
  {
   "cell_type": "code",
   "execution_count": null,
   "metadata": {},
   "outputs": [],
   "source": []
  }
 ],
 "metadata": {
  "kernelspec": {
   "display_name": "venv_ssd",
   "language": "python",
   "name": "python3"
  },
  "language_info": {
   "codemirror_mode": {
    "name": "ipython",
    "version": 3
   },
   "file_extension": ".py",
   "mimetype": "text/x-python",
   "name": "python",
   "nbconvert_exporter": "python",
   "pygments_lexer": "ipython3",
   "version": "3.10.11"
  }
 },
 "nbformat": 4,
 "nbformat_minor": 2
}
